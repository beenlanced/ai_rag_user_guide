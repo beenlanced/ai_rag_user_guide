{
 "cells": [
  {
   "cell_type": "markdown",
   "id": "cd94f6ff",
   "metadata": {},
   "source": [
    "# POC - Notebook to Build Retrieval Augmentation Generation (RAG) Model\n",
    "\n",
    "I use this notebook to go through the steps of building a RAG model and testing out in preparation for the development of a Python coded application that uses the model to answer questions about an iPod Shuffle. "
   ]
  },
  {
   "cell_type": "markdown",
   "id": "f45a7ed3",
   "metadata": {},
   "source": [
    "## Importing Modules"
   ]
  },
  {
   "cell_type": "code",
   "execution_count": 20,
   "id": "dbe359e6",
   "metadata": {},
   "outputs": [],
   "source": [
    "from langchain_core.output_parsers import StrOutputParser\n",
    "from langchain_core.prompts import ChatPromptTemplate, PromptTemplate\n",
    "\n",
    "from langchain_community.document_loaders import PyPDFLoader\n",
    "from langchain_community.embeddings import OllamaEmbeddings\n",
    "from langchain_community.vectorstores import FAISS\n",
    "\n",
    "from langchain_ollama import ChatOllama\n",
    "from langchain_ollama.llms import OllamaLLM\n",
    "from langchain.text_splitter import RecursiveCharacterTextSplitter\n",
    "\n",
    "import ollama\n",
    "from operator import itemgetter\n",
    "\n",
    "#import streamlit as st"
   ]
  },
  {
   "cell_type": "markdown",
   "id": "1be860b3",
   "metadata": {},
   "source": [
    "## Set some constants "
   ]
  },
  {
   "cell_type": "code",
   "execution_count": null,
   "id": "e42d512f",
   "metadata": {},
   "outputs": [],
   "source": [
    "SAMPLE_PDF = \"/Users/lancehester/Documents/ai_rag_user_guide/data/ipod_shuffle_2015_user_guide.pdf\"\n",
    "\n",
    "MODEL = \"llama3.2\""
   ]
  },
  {
   "cell_type": "markdown",
   "id": "d1a9ecb6",
   "metadata": {},
   "source": [
    "## Loading the PDF data source for the RAG model"
   ]
  },
  {
   "cell_type": "code",
   "execution_count": 3,
   "id": "f1509d69",
   "metadata": {},
   "outputs": [
    {
     "name": "stdout",
     "output_type": "stream",
     "text": [
      "Number of pages: 30\n",
      "Length of a page: 854\n",
      "Content of a page:  Contents\n",
      "3 Chapter 1:  Ab out iPod shuffle\n",
      "4 Chapter 2:  iPod shuffle Basics\n",
      "4 iPod shuffle at a glance\n",
      "5 Use the iPod shuffle controls\n",
      "5 Connect and disconnect iPod shuffle\n",
      "7 About the iPod shuffle battery\n",
      "9 Chapter 3:  Setting up i Pod shuffle\n",
      "9 About iTunes\n",
      "10 Set up your iTunes library\n",
      "10 Organize your music\n",
      "11 Connect iPod shuffle to a computer for the first time\n",
      "12 Add content to iPod shuffle\n",
      "17 Chapter 4:  Listening t o Music\n",
      "17 Play music\n",
      "18 Use VoiceOver\n",
      "20 Set tracks to play at the same volume\n",
      "20 Set a volume limit\n",
      "21 Lock and unlock the iPod shuffle buttons\n",
      "22 Chapter 5:  Tips and Tr oubleshooting\n",
      "24 Update and restore iPod shuffle software\n",
      "25 Chapter 6:  Saf ety and Handling\n",
      "25 Important safety information\n",
      "26 Important handling information\n",
      "27 Chapter 7:  Lea rning More, Service, and Support\n",
      "28 Regulatory Compliance Information\n",
      "  2\n"
     ]
    }
   ],
   "source": [
    "loader = PyPDFLoader(SAMPLE_PDF)\n",
    "pages = loader.load()\n",
    "\n",
    "print(f\"Number of pages: {len(pages)}\")\n",
    "print(f\"Length of a page: {len(pages[1].page_content)}\")\n",
    "print(\"Content of a page: \", pages[1].page_content)"
   ]
  },
  {
   "cell_type": "markdown",
   "id": "960a145f",
   "metadata": {},
   "source": [
    "## Need to Split PDF into Chunks for ease of tokenization and Semanitc Search"
   ]
  },
  {
   "cell_type": "code",
   "execution_count": 4,
   "id": "e6644ace",
   "metadata": {},
   "outputs": [
    {
     "name": "stdout",
     "output_type": "stream",
     "text": [
      "Number of chunks: 58\n",
      "Length of a chunk: 854\n",
      "Content of a chunk:  Contents\n",
      "3 Chapter 1:  Ab out iPod shuffle\n",
      "4 Chapter 2:  iPod shuffle Basics\n",
      "4 iPod shuffle at a glance\n",
      "5 Use the iPod shuffle controls\n",
      "5 Connect and disconnect iPod shuffle\n",
      "7 About the iPod shuffle battery\n",
      "9 Chapter 3:  Setting up i Pod shuffle\n",
      "9 About iTunes\n",
      "10 Set up your iTunes library\n",
      "10 Organize your music\n",
      "11 Connect iPod shuffle to a computer for the first time\n",
      "12 Add content to iPod shuffle\n",
      "17 Chapter 4:  Listening t o Music\n",
      "17 Play music\n",
      "18 Use VoiceOver\n",
      "20 Set tracks to play at the same volume\n",
      "20 Set a volume limit\n",
      "21 Lock and unlock the iPod shuffle buttons\n",
      "22 Chapter 5:  Tips and Tr oubleshooting\n",
      "24 Update and restore iPod shuffle software\n",
      "25 Chapter 6:  Saf ety and Handling\n",
      "25 Important safety information\n",
      "26 Important handling information\n",
      "27 Chapter 7:  Lea rning More, Service, and Support\n",
      "28 Regulatory Compliance Information\n",
      "  2\n"
     ]
    }
   ],
   "source": [
    "splitter = RecursiveCharacterTextSplitter(chunk_size=1500,chunk_overlap=100)\n",
    "\n",
    "chunks = splitter.split_documents(pages)\n",
    "\n",
    "print(f\"Number of chunks: {len(chunks)}\")\n",
    "print(f\"Length of a chunk: {len(chunks[1].page_content)}\")\n",
    "print(f\"Content of a chunk: \", chunks[1].page_content)"
   ]
  },
  {
   "cell_type": "markdown",
   "id": "18020a82",
   "metadata": {},
   "source": [
    "## Storing the Chunks in a Vector Store\n",
    "\n",
    "A Vector store is a database effective at storing vectors. Here, I use FAISS as a band-aid fix because it will store the file data in memory. \n",
    "\n",
    "In production and real world we would use a more formal vector store like `Pinecone`.\n",
    "\n",
    "Pinecone, Milvus, Weaviate, Faiss, Chroma, Qdrant, Elasticsearch (with vector search capabilities), Pgvector, and Anthos Vector Database; all of which are designed to efficiently store and search high-dimensional vectors, enabling similarity-based queries in applications like semantic search and recommendation systems.\n",
    "\n",
    "Vector databases are versatile and can be used in both small and large projects. For small-scale projects, open-source solutions like Chroma, Faiss, and Weaviate offer robust capabilities. For enterprise-scale projects, managed platforms like Pinecone provide scalability and performance optimization.\n",
    "\n",
    "\n",
    "## Steps:\n",
    "1.   I generate embeddings (tokenizing each chunk)\n",
    "  *  langchain gives me the embedding model\n",
    "\n",
    "2.   Facebook AI Similarity Search (FAISS) is a library for efficient similarity search and clustering of dense vectors. It is a library that allows developers to quickly search for embeddings of multimedia documents that are similar to each other. It solves limitations of traditional query search engines that are optimized for hash-based searches, and provides more scalable similarity search functions. FAISS also provides a basic vector store that we can temporarily store data in RAM."
   ]
  },
  {
   "cell_type": "code",
   "execution_count": 5,
   "id": "6dce14eb",
   "metadata": {},
   "outputs": [
    {
     "data": {
      "text/plain": [
       "ProgressResponse(status='success', completed=None, total=None, digest=None)"
      ]
     },
     "execution_count": 5,
     "metadata": {},
     "output_type": "execute_result"
    }
   ],
   "source": [
    "# Need to pull the llam3.1 model\n",
    "ollama.pull(MODEL)"
   ]
  },
  {
   "cell_type": "code",
   "execution_count": 6,
   "id": "f72cd0fd",
   "metadata": {},
   "outputs": [
    {
     "name": "stderr",
     "output_type": "stream",
     "text": [
      "/var/folders/10/l97qc6mn0md1lz6bm0j3x1fh0000gn/T/ipykernel_5288/4246868881.py:2: LangChainDeprecationWarning: The class `OllamaEmbeddings` was deprecated in LangChain 0.3.1 and will be removed in 1.0.0. An updated version of the class exists in the :class:`~langchain-ollama package and should be used instead. To use it run `pip install -U :class:`~langchain-ollama` and import as `from :class:`~langchain_ollama import OllamaEmbeddings``.\n",
      "  embeddings = OllamaEmbeddings(model=MODEL, base_url=ollama_endpoint)\n"
     ]
    },
    {
     "name": "stdout",
     "output_type": "stream",
     "text": [
      "base_url='http://127.0.0.1:11434' model='llama3.2' embed_instruction='passage: ' query_instruction='query: ' mirostat=None mirostat_eta=None mirostat_tau=None num_ctx=None num_gpu=None num_thread=None repeat_last_n=None repeat_penalty=None temperature=None stop=None tfs_z=None top_k=None top_p=None show_progress=False headers=None model_kwargs=None\n"
     ]
    }
   ],
   "source": [
    "ollama_endpoint = \"http://127.0.0.1:11434\"\n",
    "embeddings = OllamaEmbeddings(model=MODEL, base_url=ollama_endpoint)\n",
    "print(embeddings)\n",
    "vectorstore = FAISS.from_documents(chunks, embeddings)"
   ]
  },
  {
   "cell_type": "markdown",
   "id": "f60c390c",
   "metadata": {},
   "source": [
    "## Setting up a Retriever \n",
    "\n",
    "In RAG, a retriever is a component that efficiently locates and retrieves relevant information from a knowledge base or external data source. It acts as a search engine within the RAG system, pinpointing the most pertinent data to augment the input query before it's passed to the generator for response creation. \n",
    "\n",
    "We can usa retriever to find chunks in the vectore store that are similar to a supllied question.\n"
   ]
  },
  {
   "cell_type": "code",
   "execution_count": 7,
   "id": "b2a3ca89",
   "metadata": {},
   "outputs": [
    {
     "data": {
      "text/plain": [
       "[Document(id='84312baa-3a30-481e-b2fe-1e127888e395', metadata={'producer': 'Adobe PDF Library 10.0.1', 'creator': 'Adobe InDesign CS6 (Macintosh)', 'creationdate': '2015-06-23T22:27:58+03:00', 'author': 'Apple Inc.', 'moddate': '2015-06-24T15:13:57-07:00', 'title': 'iPod shuffle User Guide', 'trapped': '/False', 'source': '/Users/lancehester/Documents/ai_rag_user_guide/data/ipod_shuffle_2015_user_guide.pdf', 'total_pages': 30, 'page': 4, 'page_label': '5'}, page_content='Press\\xa0and\\xa0hold\\xa0Play/Pause\\xa0 \\xa0until\\xa0the\\xa0status\\xa0light\\xa0\\nblinks\\xa0orange\\xa0three\\xa0times.\\nRepeat\\xa0to\\xa0unlock\\xa0the\\xa0buttons.\\nReset iPod\\xa0shuffle\\n(if\\xa0iPod\\xa0shuffle\\xa0isn’t\\xa0responding\\xa0or\\xa0the\\xa0status\\xa0light\\xa0is\\xa0\\nsolid\\xa0red)\\nTurn\\xa0iPod\\xa0shuffle\\xa0off,\\xa0wait\\xa010\\xa0sec onds,\\xa0then\\xa0turn\\xa0it\\xa0back\\xa0\\non\\xa0again.\\nFind the iPod\\xa0shuffle serial number Look\\xa0under\\xa0the\\xa0clip\\xa0on\\xa0iPod\\xa0shuffle.\\xa0Or,\\xa0in\\xa0iT unes\\xa0(with\\xa0\\niPod\\xa0shuffle\\xa0connected\\xa0to\\xa0your\\xa0computer),\\xa0click\\xa0the\\xa0\\ndevice\\xa0button\\xa0to\\xa0select\\xa0your\\xa0iPod\\xa0shuffle,\\xa0then\\xa0click\\xa0\\nSummary.\\nConnect and disconnect iPod\\xa0shuffle\\nConnect\\xa0iPod\\xa0shuffle\\xa0to\\xa0your\\xa0computer\\xa0to\\xa0sync\\xa0songs\\xa0and\\xa0other\\xa0audio\\xa0files,\\xa0and\\xa0to\\xa0charge\\xa0the\\xa0\\nbattery.\\xa0Disconnect\\xa0iP od\\xa0shuffle\\xa0when\\xa0you ’re\\xa0done.\\nImportant:\\xa0\\xa0To\\xa0connect\\xa0iPod\\xa0shuffle\\xa0to\\xa0your\\xa0computer,\\xa0use\\xa0only\\xa0the\\xa0USB\\xa0cable\\xa0that\\xa0came\\xa0\\nwith\\xa0iPod\\xa0shuffle,\\xa0or\\xa0the\\xa0longer\\xa0iP od\\xa0shuffle\\xa0USB\\xa0cable\\xa0that ’s\\xa0av ailable\\xa0separa tely\\xa0at\\xa0\\nwww.apple.com/ipodstore.\\nConnect iPod\\xa0shuffle\\nConnect iPod\\xa0shuffle to your computer:\\n m Plug\\xa0one\\xa0end\\xa0of\\xa0the\\xa0included\\xa0USB\\xa0cable\\xa0into\\xa0the\\xa0earphone\\xa0port\\xa0of\\xa0iPod\\xa0shuffle,\\xa0and\\xa0the\\xa0other\\xa0\\nend\\xa0into\\xa0a\\xa0USB\\xa0port\\xa0on\\xa0your\\xa0computer.'),\n",
       " Document(id='9c4c48ce-5fe2-4ba5-9993-8fbe7be1f2d3', metadata={'producer': 'Adobe PDF Library 10.0.1', 'creator': 'Adobe InDesign CS6 (Macintosh)', 'creationdate': '2015-06-23T22:27:58+03:00', 'author': 'Apple Inc.', 'moddate': '2015-06-24T15:13:57-07:00', 'title': 'iPod shuffle User Guide', 'trapped': '/False', 'source': '/Users/lancehester/Documents/ai_rag_user_guide/data/ipod_shuffle_2015_user_guide.pdf', 'total_pages': 30, 'page': 3, 'page_label': '4'}, page_content='2\\n  4\\niPod\\xa0shuffle Basics\\nRead this chapter to learn about the features of iPod\\xa0shuffle, how to \\nuse its controls, and more.\\nYour\\xa0iPod\\xa0shuffle\\xa0package\\xa0includes\\xa0iPod\\xa0 shuffle,\\xa0the\\xa0Apple\\xa0Earphones ,\\xa0and\\xa0a\\xa0USB\\xa0cable\\xa0to\\xa0connect\\xa0\\niPod\\xa0shuffle\\xa0to\\xa0your\\xa0computer.\\niPod\\xa0shuffle at a glance\\nEarphone port\\nPrevious/Rewind\\nPlay/Pause\\nVolume Down\\nVoiceOver button\\nVolume Up\\nClip\\nNext/Fast-forward\\nStatus light\\nThree-way switch\\nUse the Apple Earphones:\\n m Plug\\xa0the\\xa0Apple\\xa0Earphones\\xa0into\\xa0the\\xa0earphone\\xa0port,\\xa0then\\xa0place\\xa0the\\xa0earbuds\\xa0in\\xa0your\\xa0ears.\\xa0\\nThe earphone\\ncord is adjustable.\\nWARNING:\\xa0\\xa0For\\xa0important\\xa0information\\xa0about\\xa0avoiding\\xa0hearing\\xa0loss,\\xa0see\\xa0Importan t\\xa0safety\\xa0\\ninformation\\n\\xa0on\\xa0page\\xa025.\\nYou\\xa0can\\xa0purchase\\xa0other\\xa0accessories,\\xa0such\\xa0as\\xa0the\\xa0Apple\\xa0EarPo ds\\xa0with\\xa0Remote\\xa0and\\xa0Mic\\xa0or\\xa0the\\xa0\\nApple\\xa0In-Ear\\xa0Headphones\\xa0with\\xa0Remote\\xa0and\\xa0Mic,\\xa0at\\xa0www.apple.com/ipodstore.\\xa0The\\xa0microphone\\xa0\\nisn’t\\xa0supported\\xa0on\\xa0iPod\\xa0shuffle.'),\n",
       " Document(id='aa20a06c-2551-4767-9df5-d90fe5941fab', metadata={'producer': 'Adobe PDF Library 10.0.1', 'creator': 'Adobe InDesign CS6 (Macintosh)', 'creationdate': '2015-06-23T22:27:58+03:00', 'author': 'Apple Inc.', 'moddate': '2015-06-24T15:13:57-07:00', 'title': 'iPod shuffle User Guide', 'trapped': '/False', 'source': '/Users/lancehester/Documents/ai_rag_user_guide/data/ipod_shuffle_2015_user_guide.pdf', 'total_pages': 30, 'page': 20, 'page_label': '21'}, page_content='Chapter  4    Listening to Music 21\\nThe\\xa0initial\\xa0slider\\xa0setting\\xa0shows\\xa0the\\xa0volume\\xa0iPod\\xa0shuffle\\xa0was\\xa0set\\xa0to\\xa0when\\xa0you\\xa0connected\\xa0it\\xa0to\\xa0\\nyour\\xa0computer.\\nWARNING:\\xa0\\xa0The\\xa0volume\\xa0level\\xa0may\\xa0vary\\xa0if\\xa0you\\xa0use\\xa0different\\xa0earphones\\xa0or\\xa0headphones.\\nRemove the volume limit:\\n 1\\xa0 Connect\\xa0iPod\\xa0shuffle\\xa0to\\xa0your\\xa0comput er.\\n 2\\xa0 In\\xa0iTunes,\\xa0click\\xa0the\\xa0devic e\\xa0button\\xa0to\\xa0select\\xa0iP od\\xa0shuffle,\\xa0then\\xa0click\\xa0Summary .\\n 3\\xa0 Under\\xa0Options,\\xa0deselec t\\xa0“Limit\\xa0maximum\\xa0volume .”\\nLock and unlock the iPod\\xa0shuffle buttons\\nYou\\xa0can\\xa0lock\\xa0the\\xa0buttons\\xa0on\\xa0iPod\\xa0shuffle\\xa0so\\xa0that\\xa0nothing\\xa0happens\\xa0if\\xa0you\\xa0press\\xa0them\\xa0accidentally.\\xa0\\nThis\\xa0feature\\xa0requires\\xa0software\\xa0version\\xa01.0.1\\xa0or\\xa0later\\xa0(connect\\xa0iPod\\xa0shuffle\\xa0to\\xa0iTunes\\xa0to\\xa0update\\xa0the\\xa0\\nsoftware).\\nLock the iPod\\xa0shuffle buttons:\\n m Press\\xa0and\\xa0hold\\xa0Play/Pause\\xa0 \\xa0for\\xa0three\\xa0seconds.\\nThe\\xa0status\\xa0light\\xa0blinks\\xa0orange\\xa0three\\xa0times\\xa0when\\xa0the\\xa0buttons\\xa0become\\xa0locked.\\xa0If\\xa0you\\xa0pre ss\\xa0a\\xa0\\nbutton\\xa0when\\xa0the\\xa0buttons\\xa0are\\xa0locked,\\xa0the\\xa0status\\xa0light\\xa0blinks\\xa0orange\\xa0once .\\nUnlock the buttons:\\n m Press\\xa0and\\xa0hold\\xa0Play/Pause\\xa0 \\xa0again\\xa0for\\xa0three\\xa0seconds.\\nThe\\xa0status\\xa0light\\xa0blinks\\xa0orange\\xa0three\\xa0times\\xa0when\\xa0the\\xa0buttons\\xa0become\\xa0unlocked.\\nIf\\xa0you’re\\xa0wearing\\xa0earphones,\\xa0you\\xa0hear\\xa0a\\xa0tone\\xa0when\\xa0you\\xa0lock\\xa0or\\xa0unlock\\xa0the\\xa0buttons .'),\n",
       " Document(id='39d4fa4b-82cb-44ec-bc6d-1817433710d3', metadata={'producer': 'Adobe PDF Library 10.0.1', 'creator': 'Adobe InDesign CS6 (Macintosh)', 'creationdate': '2015-06-23T22:27:58+03:00', 'author': 'Apple Inc.', 'moddate': '2015-06-24T15:13:57-07:00', 'title': 'iPod shuffle User Guide', 'trapped': '/False', 'source': '/Users/lancehester/Documents/ai_rag_user_guide/data/ipod_shuffle_2015_user_guide.pdf', 'total_pages': 30, 'page': 0, 'page_label': '1'}, page_content='iPod shuffle\\nUser Guide')]"
      ]
     },
     "execution_count": 7,
     "metadata": {},
     "output_type": "execute_result"
    }
   ],
   "source": [
    "retriever = vectorstore.as_retriever()\n",
    "retriever.invoke(\"How to turn on you ipod shuffle?\") #returns by default the 4 most relevant chunks\n",
    "\n"
   ]
  },
  {
   "cell_type": "markdown",
   "id": "cd398507",
   "metadata": {},
   "source": [
    "---\n",
    "\n",
    "# Configuring the Model\n",
    "\n",
    "We'll be using `Ollama` to load the local model in memory. After creating the model, we can invoke it with a question to get the response back. The model looks like the following:\n",
    "\n",
    "**question---model---response**\n",
    "\n",
    "\n",
    "We call the ChatOllama. ChatOllama is the chatbot like feature we can use to help ask questions and get responses.\n",
    "\n",
    "```\n",
    "ChatOllama(model=MODEL, temperature=0)\n",
    "```\n",
    "\n",
    "* model = MODEL = \"llama3.2\"\n",
    "\n",
    "* temperature tells you how createive to be. A temperature of 0 in ChatOllama means the model will always choose the most likely next word at each step of text generation\n",
    "\n"
   ]
  },
  {
   "cell_type": "code",
   "execution_count": 9,
   "id": "6a03d0e4",
   "metadata": {},
   "outputs": [
    {
     "data": {
      "text/plain": [
       "AIMessage(content=\"I'm not aware of my current status or the current President of the United States. My knowledge cutoff is December 2023, but I do not have real-time information. As of my knowledge cutoff, Joe Biden was the President of the United States. However, please note that this information may have changed since then.\", additional_kwargs={}, response_metadata={'model': 'llama3.2', 'created_at': '2025-06-18T22:32:13.570735Z', 'done': True, 'done_reason': 'stop', 'total_duration': 1007725875, 'load_duration': 28959750, 'prompt_eval_count': 34, 'prompt_eval_duration': 202272209, 'eval_count': 65, 'eval_duration': 775741166, 'model_name': 'llama3.2'}, id='run--d2d59281-a65c-4acc-a93f-8997f77c3114-0', usage_metadata={'input_tokens': 34, 'output_tokens': 65, 'total_tokens': 99})"
      ]
     },
     "execution_count": 9,
     "metadata": {},
     "output_type": "execute_result"
    }
   ],
   "source": [
    "model = ChatOllama(model=MODEL, temperature=0)\n",
    "model.invoke(\"who is the president of the united states?\") #this tests general knowledge of the model.\n"
   ]
  },
  {
   "cell_type": "markdown",
   "id": "9a9e78b1",
   "metadata": {},
   "source": [
    "---\n",
    "\n",
    "## Parsing the model's response\n",
    "\n",
    "A Parser is a class in langchain to modify the response output to match how the user expects to see it.\n",
    "\n",
    "Remember, langchain essentially chains together processes where the output of a first process becomes the input of another process. For this project, that looks like following process flow:\n",
    "\n",
    "**question** ---> `<start chain>` model--response--parser `<end chain>` ----> **answer**\n"
   ]
  },
  {
   "cell_type": "code",
   "execution_count": null,
   "id": "d5b1ed76",
   "metadata": {},
   "outputs": [
    {
     "name": "stdout",
     "output_type": "stream",
     "text": [
      "I'm not aware of my current status or the current President of the United States. My knowledge cutoff is December 2023, but I do not have real-time information. As of my knowledge cutoff, Joe Biden was the President of the United States. However, please note that this information may have changed since then.\n"
     ]
    }
   ],
   "source": [
    "# See how the parser strips the unwanted information from the response. \n",
    "parser = StrOutputParser()\n",
    "\n",
    "chain = model | parser\n",
    "print(chain.invoke(\"who is the president of the united states?\"))\n"
   ]
  },
  {
   "cell_type": "markdown",
   "id": "4e8ecb74",
   "metadata": {},
   "source": [
    "## Setting up an AI Prompt\n",
    "\n",
    "Okay, now that we have the flow. I can pass context and present day information (i.e., my iPod pdf data) with the chatbot question to form a `prompt`\n",
    "\n",
    "I create a `prompt template` which makes it easy to automate and to share with others."
   ]
  },
  {
   "cell_type": "code",
   "execution_count": 14,
   "id": "aa30269e",
   "metadata": {},
   "outputs": [
    {
     "name": "stdout",
     "output_type": "stream",
     "text": [
      "\n",
      "You are an assistant that provides answers to questions based on a given context.\n",
      "\n",
      "Answer the question based on the context.\n",
      "If you can't anser the question, reply \"I do not know\".\n",
      "\n",
      "Be as concise as possible and go straight to the point.\n",
      "\n",
      "Context: Heres is some context\n",
      "\n",
      "Question: here is a question\n",
      "\n"
     ]
    }
   ],
   "source": [
    "template = \"\"\"\n",
    "You are an assistant that provides answers to questions based on a given context.\n",
    "\n",
    "Answer the question based on the context.\n",
    "If you can't anser the question, reply \"I do not know\".\n",
    "\n",
    "Be as concise as possible and go straight to the point.\n",
    "\n",
    "Context: {context}\n",
    "\n",
    "Question: {question}\n",
    "\"\"\"\n",
    "\n",
    "prompt = PromptTemplate.from_template(template=template)\n",
    "print(prompt.format(context=\"Heres is some context\", question=\"here is a question\")) # this jsut shows the prompt\n"
   ]
  },
  {
   "cell_type": "markdown",
   "id": "2fedc94e",
   "metadata": {},
   "source": [
    "## Add Prompt to the Previous Chain"
   ]
  },
  {
   "cell_type": "code",
   "execution_count": 16,
   "id": "85dd476e",
   "metadata": {},
   "outputs": [
    {
     "data": {
      "text/plain": [
       "'Darth Vader.'"
      ]
     },
     "execution_count": 16,
     "metadata": {},
     "output_type": "execute_result"
    }
   ],
   "source": [
    "# Here is a quick example\n",
    "chain = prompt | model | parser\n",
    "chain.invoke({\n",
    "    \"context\": \"Darth Vader is Luke's father\",\n",
    "    \"question\": \"Who is Luke's father\"\n",
    "})"
   ]
  },
  {
   "cell_type": "markdown",
   "id": "f5e1dd14",
   "metadata": {},
   "source": [
    "## Adding the Retriever to the Chain\n",
    "\n",
    "I can connect the retriever to the chain to get the context from the vector store."
   ]
  },
  {
   "cell_type": "code",
   "execution_count": 18,
   "id": "7056bcf4",
   "metadata": {},
   "outputs": [],
   "source": [
    "chain = (\n",
    "  {\n",
    "    \"context\": itemgetter(\"question\") | retriever,\n",
    "    \"question\": itemgetter(\"question\"),\n",
    "  }\n",
    "  | prompt\n",
    "  | model\n",
    "  | parser\n",
    ")"
   ]
  },
  {
   "cell_type": "markdown",
   "id": "4868ce30",
   "metadata": {},
   "source": [
    "## Finally, I Pull it Altogether\n",
    "\n"
   ]
  },
  {
   "cell_type": "code",
   "execution_count": 19,
   "id": "16800f54",
   "metadata": {},
   "outputs": [
    {
     "name": "stdout",
     "output_type": "stream",
     "text": [
      "Question: What is an IPOD Shuffle?\n",
      "Answer: An iPod shuffle is a portable music player produced by Apple Inc. It allows users to create playlists and listen to songs, audiobooks, or podcasts on the go.\n",
      "***************************\n",
      "\n",
      "Question: How do I turn on the IPOD Shuffle?\n",
      "Answer: To turn on the iPod shuffle, connect it to a USB port on your computer. The battery may need to be recharged. Turn the iPod shuffle off, wait 10 seconds, and then turn it back on again. If the iPod shuffle won't turn on or respond, try connecting it to a USB port and restoring its software.\n",
      "***************************\n",
      "\n",
      "Question: How do I play a song?\n",
      "Answer: I do not know. The provided context does not mention how to play a song on the iPod shuffle. It only provides information on troubleshooting and managing music content.\n",
      "***************************\n",
      "\n"
     ]
    }
   ],
   "source": [
    "questions = [\n",
    "  \"What is an IPOD Shuffle?\",\n",
    "  \"How do I turn on the IPOD Shuffle?\",\n",
    "  \"How do I play a song?\"\n",
    "]\n",
    "\n",
    "for question in questions:\n",
    "  print(f\"Question: {question}\")\n",
    "  print(f\"Answer: {chain.invoke({'question': question})}\")\n",
    "  print(\"***************************\\n\")"
   ]
  }
 ],
 "metadata": {
  "kernelspec": {
   "display_name": "ai-rag-user-guide",
   "language": "python",
   "name": "python3"
  },
  "language_info": {
   "codemirror_mode": {
    "name": "ipython",
    "version": 3
   },
   "file_extension": ".py",
   "mimetype": "text/x-python",
   "name": "python",
   "nbconvert_exporter": "python",
   "pygments_lexer": "ipython3",
   "version": "3.12.10"
  }
 },
 "nbformat": 4,
 "nbformat_minor": 5
}
